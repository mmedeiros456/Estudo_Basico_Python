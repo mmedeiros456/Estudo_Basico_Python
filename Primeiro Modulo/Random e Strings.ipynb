{
 "cells": [
  {
   "cell_type": "code",
   "execution_count": 1,
   "metadata": {},
   "outputs": [
    {
     "name": "stdout",
     "output_type": "stream",
     "text": [
      "12\n",
      "0.8290\n",
      "19\n",
      "banana\n",
      "[9, 8, 2, 5, 7, 4, 1, 3, 6]\n",
      "7.98\n"
     ]
    }
   ],
   "source": [
    "# Uso de Numeros Randomicos\n",
    "import random\n",
    "\n",
    "print(random.randrange(1, 100)) # random int entre 1 e 100\n",
    "\n",
    "print(format(random.random(),\".4f\")) # numero random float entre 0 e 1\n",
    "\n",
    "print(random.randint(10, 20)) # numero random int entre 10 e 20\n",
    "\n",
    "# Escolhe aliatoriamente um elemento da lista\n",
    "frutas = [\"maça\", \"banana\", \"cereja\", \"abacate\", \"bergamota\"]\n",
    "print(random.choice(frutas))\n",
    "\n",
    "#Embaralhar uma lista\n",
    "numeros = [1, 2, 3, 4, 5, 6, 7, 8, 9]\n",
    "random.shuffle(numeros)\n",
    "print(numeros)\n",
    "\n",
    "print(format(random.uniform(5.0, 9.9),\".2f\")) # numero random float entre 5.0 e 9.9"
   ]
  },
  {
   "cell_type": "code",
   "execution_count": 2,
   "metadata": {},
   "outputs": [
    {
     "name": "stdout",
     "output_type": "stream",
     "text": [
      "P\n",
      "y\n",
      "t\n",
      "h\n",
      "o\n",
      "n\n",
      "a, Mund\n",
      "Ola, M\n",
      "Mundo!\n",
      "True\n",
      "A Palavra python esta na frase\n",
      "O Módulo de Python é Munto Legal\n",
      "O Módulo de Python é Munto Legal\n",
      "['Olá,', 'como', 'vai', 'você?']\n",
      "Olá, como vai você?\n"
     ]
    }
   ],
   "source": [
    "# Trabalhando Strings\n",
    "\n",
    "#Imprimir Letra da determinada posição da string\n",
    "posicao_letra = \"Python\"\n",
    "\n",
    "print(posicao_letra[0])\n",
    "print(posicao_letra[1])\n",
    "print(posicao_letra[2])\n",
    "print(posicao_letra[3])\n",
    "print(posicao_letra[4])\n",
    "print(posicao_letra[5])\n",
    "\n",
    "\n",
    "# imprimir parte da String **Slicing** ( fatiamento )\n",
    "frase4 = \"Ola, Mundo!\"\n",
    "\n",
    "parte = frase4[2:9] # pega da posicao 2 até a 9\n",
    "print(parte)\n",
    "\n",
    "primeiros = frase4[:6] # pega os primeiros 6 caracteres\n",
    "print(primeiros)\n",
    "\n",
    "ultimos = frase4[-6:] # pega os ultimos 6 caracteres\n",
    "print(ultimos)\n",
    "\n",
    "# Para verificar um valor esta em outro\n",
    "#neste caso a str python na str frase1\n",
    "frase1 = \"O Módulo de Python é Munto Legal\"\n",
    "print(\"Python\" in frase1) # retorna true ou false\n",
    "\n",
    "if \"Python\" in frase1: # se True\n",
    "    print(\"A Palavra python esta na frase\")\n",
    "\n",
    "\n",
    "# Remover Espaço em Branco\n",
    "\n",
    "frase2 = \"    O Módulo de Python é Munto Legal       \"\n",
    "print(frase2.strip()) # strip() serve para retirar espaços em...\n",
    "#branco do inicio e do final da str\n",
    "frase2 = \"eeeeeeO Módulo de Python é Munto Legaleeeeee\"\n",
    "print(frase2.strip('e')) # é possivel remover os caracteres repetidos\n",
    "\n",
    "# Divide um string em menores, usa o espaço como fim de caracter\n",
    "#e os armazena em lista\n",
    "frase3 = \"Olá, como vai você?\"\n",
    "palavras1 = frase3.split() # split() para separar\n",
    "print(palavras1)\n",
    "\n",
    "# Juntar Lista de str em uma str\n",
    "\n",
    "palavras2 = ['Olá,', 'como', 'vai', 'você?']\n",
    "frase5 = ' '.join(palavras2) # ' '.join(variavel)\n",
    "print(frase5)\n",
    "\n",
    "\n"
   ]
  },
  {
   "cell_type": "code",
   "execution_count": 3,
   "metadata": {},
   "outputs": [
    {
     "name": "stdout",
     "output_type": "stream",
     "text": [
      "Olá, meu nome é Alice. Tenho 25 anos e minha altura é 1.65 metros.\n"
     ]
    }
   ],
   "source": [
    "nome = \"Alice\"\n",
    "idade = 25\n",
    "altura = 1.65\n",
    "\n",
    "mensagem = f\"Olá, meu nome é {nome}. Tenho {idade} anos e minha altura é {altura:.2f} metros.\"\n",
    "print(mensagem)"
   ]
  },
  {
   "cell_type": "code",
   "execution_count": 42,
   "metadata": {},
   "outputs": [
    {
     "name": "stdout",
     "output_type": "stream",
     "text": [
      "OLÁ, MUNDO!\n",
      "olá, mundo!\n",
      "Olá, mundo!\n",
      "1\n",
      "OLá, Amigo!\n",
      "11\n"
     ]
    }
   ],
   "source": [
    "# continuação Trabalhando Strings\n",
    "\n",
    "texto = \"OLá, Mundo!\"\n",
    "\n",
    "texto_maiusculo = texto.upper() # .upper deixa os caracteres da variavel maiusculo\n",
    "print(texto_maiusculo)\n",
    "\n",
    "texto_minusculo = texto.lower() # .lower deixa os caracteres da variavel minuscula\n",
    "print(texto_minusculo)\n",
    "\n",
    "texto_capitalize = texto.capitalize() # .capitalize deixa o texto com apenas a primeira letra maiuscula\n",
    "print(texto_capitalize)\n",
    "\n",
    "ocorrencias = texto.count(\"o\") # .count conta quantos caracteres dentro do \"\" tem na variavel\n",
    "print(ocorrencias)\n",
    "\n",
    "texto_substituido = texto.replace(\"Mundo\", \"Amigo\") # .replace troca caracteres\n",
    "print(texto_substituido)\n",
    "\n",
    "tamanho_frase = len(texto) # len() retorna a qtd de caracteres\n",
    "print(tamanho_frase)\n"
   ]
  },
  {
   "cell_type": "code",
   "execution_count": 22,
   "metadata": {},
   "outputs": [
    {
     "name": "stdout",
     "output_type": "stream",
     "text": [
      "Maria Silva\n",
      "Sra. Maria Silva portadora de 30 anos de idade comparecer ao consultorio\n"
     ]
    }
   ],
   "source": [
    "# Exercicio de Manipulação de Strings\n",
    "\n",
    "nome = \"Maria\"\n",
    "sobrenome = \"Silva\"\n",
    "idade = int(30)\n",
    "\n",
    "nome_completo = (nome , sobrenome)\n",
    "nome_completo = ' '.join(nome_completo)\n",
    "#nome_completo = nome + \" \" + sobrenome\n",
    "\n",
    "print(nome_completo)\n",
    "\n",
    "mensagem = f\"Sra. {nome_completo} portadora de {idade} anos de idade comparecer ao consultorio\"\n",
    "#mensagem = \"Olá, meu nome é {} e tenho {} anos\".format(nome_completo, idade)\n",
    "\n",
    "print(mensagem)"
   ]
  },
  {
   "cell_type": "code",
   "execution_count": 41,
   "metadata": {},
   "outputs": [
    {
     "name": "stdout",
     "output_type": "stream",
     "text": [
      "Tamanho da frase: 58\n",
      "Python\n",
      "PYTHON É UMA LINGUAGEM DE PRAGRAMAÇÃO PODEROSA E VERSÁTIL.\n",
      "Python é uma linguagem de pragramação incrivel e versátil.\n"
     ]
    }
   ],
   "source": [
    "# Exercicio de Manipulação de Strings\n",
    "\n",
    "frase6 = \"Python é uma linguagem de pragramação poderosa e versátil.\"\n",
    "qtd_caracteres = len(frase6)\n",
    "print(\"Tamanho da frase:\",qtd_caracteres)\n",
    "\n",
    "frase7 = frase6.split()  \n",
    "#palavra3 = frase.split()[0]\n",
    "palavra3 = frase7[0]   # separando a frase e pegando a primeira palavra\n",
    "print(palavra3)\n",
    "\n",
    "frase_maiuscula1 = frase6.upper()\n",
    "frase_substituida1 = frase6.replace(\"poderosa\",\"incrivel\")\n",
    "print(frase_maiuscula1)\n",
    "print(frase_substituida1)"
   ]
  }
 ],
 "metadata": {
  "kernelspec": {
   "display_name": "Python 3",
   "language": "python",
   "name": "python3"
  },
  "language_info": {
   "codemirror_mode": {
    "name": "ipython",
    "version": 3
   },
   "file_extension": ".py",
   "mimetype": "text/x-python",
   "name": "python",
   "nbconvert_exporter": "python",
   "pygments_lexer": "ipython3",
   "version": "3.11.5"
  },
  "orig_nbformat": 4
 },
 "nbformat": 4,
 "nbformat_minor": 2
}
