{
 "cells": [
  {
   "cell_type": "code",
   "execution_count": 2,
   "metadata": {},
   "outputs": [
    {
     "name": "stdout",
     "output_type": "stream",
     "text": [
      "numero  1\n",
      "numero  2\n",
      "numero  3\n",
      "numero  4\n",
      "numero  5\n",
      "numero  6\n",
      "numero  7\n",
      "numero  8\n",
      "numero  9\n",
      "numero  10\n",
      "Numeros impressos com sucesso!\n"
     ]
    }
   ],
   "source": [
    "contador = 0\n",
    "\n",
    "while contador < 10 :\n",
    "    contador += 1\n",
    "    print(\"numero \",contador)\n",
    "else : # o else no while serve pra entrar apos o termino bem sucessido do loop e sem break\n",
    "    print (\"Numeros impressos com sucesso!\")"
   ]
  },
  {
   "cell_type": "code",
   "execution_count": 4,
   "metadata": {},
   "outputs": [
    {
     "name": "stdout",
     "output_type": "stream",
     "text": [
      "Numeros pares entre 1 e 50 :\n",
      "2 4 6 8 10 12 14 16 18 20 22 24 26 28 30 32 34 36 38 40 42 44 46 48 50 "
     ]
    }
   ],
   "source": [
    "numero = 1\n",
    "\n",
    "max = int(input(\"Digite um inteiro maior que 1\"))\n",
    "\n",
    "print(f\"Numeros pares entre 1 e {max} :\")\n",
    "\n",
    "while numero <= max :\n",
    "\n",
    "    if numero % 2 == 0 :\n",
    "        print(numero, end=\" \")\n",
    "    numero += 1"
   ]
  },
  {
   "cell_type": "code",
   "execution_count": 3,
   "metadata": {},
   "outputs": [
    {
     "name": "stdout",
     "output_type": "stream",
     "text": [
      "Terminal de pedido de senha\n",
      "Tente novamente\n",
      "Tente novamente\n",
      "Tente novamente\n",
      "Senha Digitada com Sucesso!\n"
     ]
    }
   ],
   "source": [
    "# Exercicio de While\n",
    "\n",
    "print(\"Terminal de pedido de senha\")\n",
    "\n",
    "aux = 0\n",
    "\n",
    "while aux != 1:\n",
    "    \n",
    "    senha = int(input(\"Digite a senha de 4 caracteres\"))\n",
    "    \n",
    "    if senha == 1234 :\n",
    "\n",
    "        aux = 1\n",
    "\n",
    "    else :\n",
    "\n",
    "        print(\"Tente novamente\")\n",
    "\n",
    "print(\"Senha Digitada com Sucesso!\")"
   ]
  },
  {
   "cell_type": "code",
   "execution_count": 4,
   "metadata": {},
   "outputs": [],
   "source": [
    "while True:\n",
    "\n",
    "    usuario = input(\"Digite 'sair' para encerrar\")\n",
    "\n",
    "    if usuario == 'sair' :\n",
    "        break"
   ]
  },
  {
   "cell_type": "code",
   "execution_count": 16,
   "metadata": {},
   "outputs": [
    {
     "name": "stdout",
     "output_type": "stream",
     "text": [
      "Programa para captura de numeros\n",
      "25\n",
      "25\n",
      "26\n",
      "23\n",
      "21\n",
      "0\n",
      "o Somatorio dos numeros é :  120\n"
     ]
    }
   ],
   "source": [
    "#Exercicio While\n",
    "\n",
    "print(\"Programa para captura de numeros\")\n",
    "\n",
    "somatorio = 0\n",
    "\n",
    "while True :\n",
    "\n",
    "    numero = int(input(\"Digite o numero a armazenar ( digite 0 para sair)\"))\n",
    "\n",
    "    print(numero)\n",
    "\n",
    "    somatorio = somatorio + numero\n",
    "\n",
    "    if numero == 0 :\n",
    "\n",
    "        break\n",
    "\n",
    "print(\"o Somatorio dos numeros é : \", somatorio)"
   ]
  },
  {
   "cell_type": "code",
   "execution_count": 15,
   "metadata": {},
   "outputs": [
    {
     "name": "stdout",
     "output_type": "stream",
     "text": [
      "Captura de numeros positivos\n",
      "O maior numero digitado foi : 25\n"
     ]
    }
   ],
   "source": [
    "# exercicio While\n",
    "\n",
    "print(\"Captura de numeros positivos\")\n",
    "\n",
    "numero_maior = 0\n",
    "\n",
    "while True :\n",
    "\n",
    "    numero_digitado = int(input(\"Digite o numero a armazenar ou numero menor que zero para parar\"))\n",
    "\n",
    "    if numero_digitado <= 0 :\n",
    "\n",
    "        break\n",
    "\n",
    "    elif numero_digitado > 0 :\n",
    "\n",
    "        if numero_digitado > numero_maior :\n",
    "\n",
    "            numero_maior = numero_digitado\n",
    "\n",
    "print(\"O maior numero digitado foi :\", numero_maior)"
   ]
  }
 ],
 "metadata": {
  "kernelspec": {
   "display_name": "Python 3",
   "language": "python",
   "name": "python3"
  },
  "language_info": {
   "codemirror_mode": {
    "name": "ipython",
    "version": 3
   },
   "file_extension": ".py",
   "mimetype": "text/x-python",
   "name": "python",
   "nbconvert_exporter": "python",
   "pygments_lexer": "ipython3",
   "version": "3.11.5"
  },
  "orig_nbformat": 4
 },
 "nbformat": 4,
 "nbformat_minor": 2
}
