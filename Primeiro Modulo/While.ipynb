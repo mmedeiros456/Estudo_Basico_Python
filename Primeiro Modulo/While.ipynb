{
 "cells": [
  {
   "cell_type": "code",
   "execution_count": 2,
   "metadata": {},
   "outputs": [
    {
     "name": "stdout",
     "output_type": "stream",
     "text": [
      "numero  1\n",
      "numero  2\n",
      "numero  3\n",
      "numero  4\n",
      "numero  5\n",
      "numero  6\n",
      "numero  7\n",
      "numero  8\n",
      "numero  9\n",
      "numero  10\n",
      "Numeros impressos com sucesso!\n"
     ]
    }
   ],
   "source": [
    "contador = 0\n",
    "\n",
    "while contador < 10 :\n",
    "    contador += 1\n",
    "    print(\"numero \",contador)\n",
    "else : # o else no while serve pra entrar apos o termino bem sucessido do loop e sem break\n",
    "    print (\"Numeros impressos com sucesso!\")"
   ]
  },
  {
   "cell_type": "code",
   "execution_count": 4,
   "metadata": {},
   "outputs": [
    {
     "name": "stdout",
     "output_type": "stream",
     "text": [
      "Numeros pares entre 1 e 50 :\n",
      "2 4 6 8 10 12 14 16 18 20 22 24 26 28 30 32 34 36 38 40 42 44 46 48 50 "
     ]
    }
   ],
   "source": [
    "numero = 1\n",
    "\n",
    "max = int(input(\"Digite um inteiro maior que 1\"))\n",
    "\n",
    "print(f\"Numeros pares entre 1 e {max} :\")\n",
    "\n",
    "while numero <= max :\n",
    "\n",
    "    if numero % 2 == 0 :\n",
    "        print(numero, end=\" \")\n",
    "    numero += 1"
   ]
  }
 ],
 "metadata": {
  "kernelspec": {
   "display_name": "Python 3",
   "language": "python",
   "name": "python3"
  },
  "language_info": {
   "codemirror_mode": {
    "name": "ipython",
    "version": 3
   },
   "file_extension": ".py",
   "mimetype": "text/x-python",
   "name": "python",
   "nbconvert_exporter": "python",
   "pygments_lexer": "ipython3",
   "version": "3.11.5"
  },
  "orig_nbformat": 4
 },
 "nbformat": 4,
 "nbformat_minor": 2
}
