{
 "cells": [
  {
   "cell_type": "code",
   "execution_count": 63,
   "metadata": {},
   "outputs": [
    {
     "name": "stdout",
     "output_type": "stream",
     "text": [
      "O numero 1 é maior que numero 2\n"
     ]
    }
   ],
   "source": [
    "numero1 = 90\n",
    "numero2 = 12\n",
    "\n",
    "if numero1 > numero2 : # nao esquecer o : no final\n",
    "    print(\"O numero 1 é maior que numero 2\")\n"
   ]
  },
  {
   "cell_type": "code",
   "execution_count": 74,
   "metadata": {},
   "outputs": [
    {
     "name": "stdout",
     "output_type": "stream",
     "text": [
      "O 6 é igual 6\n"
     ]
    }
   ],
   "source": [
    "numero1 = 6\n",
    "numero2 = 6\n",
    "\n",
    "if numero1 > numero2 :\n",
    "    print(f\"O {numero1} é maior que {numero2}\")\n",
    "elif numero2 > numero1 :\n",
    "    print(f\"O {numero2} é maior que {numero1}\")\n",
    "else :  \n",
    "    print(f\"O {numero1} é igual {numero2}\")"
   ]
  },
  {
   "cell_type": "code",
   "execution_count": 65,
   "metadata": {},
   "outputs": [
    {
     "name": "stdout",
     "output_type": "stream",
     "text": [
      "Descubra o numero secreto\n",
      "Você não acertou o numero: 2\n"
     ]
    }
   ],
   "source": [
    "# Exercicio de If \n",
    "\n",
    "import random\n",
    "\n",
    "print(\"Descubra o numero secreto\")\n",
    "\n",
    "numero_digitado = input(\"Digite um numero de 1 a 10\")\n",
    "\n",
    "numero_aliatorio = (random.randint(1, 10))\n",
    "\n",
    "if numero_digitado == numero_aliatorio :\n",
    "    print(\"Parabens! Você acertou\")\n",
    "else :\n",
    "    #print(\"Você não acertou\")\n",
    "    print(\"Você não acertou o numero:\",numero_aliatorio)"
   ]
  },
  {
   "cell_type": "code",
   "execution_count": 70,
   "metadata": {},
   "outputs": [
    {
     "name": "stdout",
     "output_type": "stream",
     "text": [
      "Verficação a elegibilidade para votar\n",
      "Você pode votar\n"
     ]
    }
   ],
   "source": [
    "# Exercicio de If \n",
    "\n",
    "print(\"Verficação a elegibilidade para votar\")\n",
    "\n",
    "idade = int(input(\"Digite sua idade\"))\n",
    "\n",
    "if idade >= 18 :\n",
    "    print(\"Você pode votar\")\n",
    "else:\n",
    "    print(\"Você não tem idade para votar\")"
   ]
  },
  {
   "cell_type": "code",
   "execution_count": 93,
   "metadata": {},
   "outputs": [
    {
     "name": "stdout",
     "output_type": "stream",
     "text": [
      "Verificação de nota de aluno\n",
      "Satisfatório\n"
     ]
    }
   ],
   "source": [
    "#Exercicio de If\n",
    "\n",
    "print(\"Verificação de nota de aluno\")\n",
    "\n",
    "nota = int(input(\"Digite a nota do aluno (0 - 100)\"))\n",
    "\n",
    "if nota <=100 and nota >= 90 :\n",
    "    print(\"Excelente\")\n",
    "elif nota <= 89 and nota >= 70 :\n",
    "    print(\"Bom\")\n",
    "elif nota <= 69 and nota >= 50 :\n",
    "    print(\"Satisfatório\")\n",
    "else :\n",
    "    print(\"Insuficiente\")"
   ]
  },
  {
   "cell_type": "code",
   "execution_count": 108,
   "metadata": {},
   "outputs": [
    {
     "name": "stdout",
     "output_type": "stream",
     "text": [
      "Calculadora de Desconto\n",
      "O preço final é : R$900.0\n"
     ]
    }
   ],
   "source": [
    "#Exercicio de If com and\n",
    "\n",
    "print(\"Calculadora de Desconto\")\n",
    "\n",
    "preço = float(input(\"Digite o Preço do produto\"))\n",
    "preço_final = 0\n",
    "\n",
    "if preço > 1000.0 :\n",
    "    preço_final = preço * 0.8\n",
    "    \n",
    "elif preço >= 500 and preço <= 1000 :\n",
    "    preço_final = preço * 0.9\n",
    "    \n",
    "else :\n",
    "    print(\"Compras abaixo de R$500 não recebem desconto\")\n",
    "\n",
    "print(f\"O preço final é : R${preço_final}\")\n"
   ]
  },
  {
   "cell_type": "code",
   "execution_count": 115,
   "metadata": {},
   "outputs": [
    {
     "name": "stdout",
     "output_type": "stream",
     "text": [
      "Verificação de entrada no evento\n",
      "Desculpe, você não pode entrar no evento\n"
     ]
    }
   ],
   "source": [
    "#Exercicio if com Or\n",
    "\n",
    "print(\"Verificação de entrada no evento\")\n",
    "\n",
    "vip = str(input(\"Voce é VIP ? ( S ou N )\"))\n",
    "vip = vip.upper()\n",
    "\n",
    "convidado = str(input(\"Voce é convidado? ( S ou N )\"))\n",
    "convidado = convidado.upper()\n",
    "\n",
    "club = str(input(\"Voce é membro do clube ( S ou N )\"))\n",
    "club = club.upper()\n",
    "\n",
    "\n",
    "if vip == 'S' or convidado == 'S' or club == 'S' :\n",
    "    print(\"Bem-Vindo(a) ao evento!\")\n",
    "else :\n",
    "    print(\"Desculpe, você não pode entrar no evento\")\n"
   ]
  },
  {
   "cell_type": "code",
   "execution_count": 136,
   "metadata": {},
   "outputs": [
    {
     "name": "stdout",
     "output_type": "stream",
     "text": [
      "Verificação se o numero é par ou impar\n",
      "O numero 5 é Impar\n",
      "par\n"
     ]
    }
   ],
   "source": [
    "# Exercicio If \n",
    "'''\n",
    "print(\"Verificação se o numero é par ou impar\")\n",
    "\n",
    "num1 = int(input(\"Digite um numero\"))\n",
    "\n",
    "verifica_numero = num1 % 2\n",
    "\n",
    "if verifica_numero == 0 :\n",
    "    print(f\"O numero {num1} é PAR\")\n",
    "else :\n",
    "    print(f\"O numero {num1} é Impar\")\n",
    "'''\n",
    "\n",
    "num2 = int(input(\"Digite um numero\"))\n",
    "verifica_numero2 = \"impar\" if num2 % 2 else \"par\" \n",
    "print(verifica_numero2)\n"
   ]
  },
  {
   "cell_type": "code",
   "execution_count": 131,
   "metadata": {},
   "outputs": [
    {
     "name": "stdout",
     "output_type": "stream",
     "text": [
      "adulto\n"
     ]
    }
   ],
   "source": [
    "# Estrutura condicional ternária\n",
    "\n",
    "age = 18\n",
    "status = \"adulto\" if age >= 18 else \"menor de idade\"\n",
    "print(status)"
   ]
  },
  {
   "cell_type": "code",
   "execution_count": 150,
   "metadata": {},
   "outputs": [
    {
     "name": "stdout",
     "output_type": "stream",
     "text": [
      "Verificação de Score\n",
      "baixa\n"
     ]
    }
   ],
   "source": [
    "# Exercicio de estrutura condicional ternária\n",
    "\n",
    "print(\"Verificação de Score\")\n",
    "\n",
    "score = int(input(\"Digite seu score (0 - 100)\"))\n",
    "category = \"baixa\" if score < 50 else \"média\" if score < 80 else \"alta\"\n",
    "print(category)"
   ]
  }
 ],
 "metadata": {
  "kernelspec": {
   "display_name": "Python 3",
   "language": "python",
   "name": "python3"
  },
  "language_info": {
   "codemirror_mode": {
    "name": "ipython",
    "version": 3
   },
   "file_extension": ".py",
   "mimetype": "text/x-python",
   "name": "python",
   "nbconvert_exporter": "python",
   "pygments_lexer": "ipython3",
   "version": "3.11.5"
  },
  "orig_nbformat": 4
 },
 "nbformat": 4,
 "nbformat_minor": 2
}
