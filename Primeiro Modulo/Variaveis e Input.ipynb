{
 "cells": [
  {
   "cell_type": "code",
   "execution_count": 58,
   "metadata": {},
   "outputs": [
    {
     "name": "stdout",
     "output_type": "stream",
     "text": [
      "int : 42\n",
      "float 42.0\n",
      "Complex: (3+4j)\n",
      "Ole mundo!\n",
      "List [1, 2, 3]\n",
      "Tupla (1, 2, 3, 4, 5)\n",
      "Set {1, 2, 3}\n",
      "Dicionario {'chave': 'valor'}\n",
      "Booleano True\n",
      "NoneType (None): None\n",
      "<class 'str'>\n"
     ]
    }
   ],
   "source": [
    "# Este sinal serve para comendar um código!\n",
    "\n",
    "# Tipos de Variaveis\n",
    "\n",
    "inteiro = 42 # pode ser declarado ->  inteiro = int(42)\n",
    "print(\"int :\",inteiro)\n",
    "\n",
    "flutuante = 42.0 #  ->  flutuante = float(42.0)\n",
    "print(\"float\",flutuante)\n",
    "\n",
    "complexo = 3 + 4j  #o numero seguido do J é identificado como complex\n",
    "print(\"Complex:\",complexo)\n",
    "\n",
    "texto = \"Ole mundo!\" # -> texto = str(\"Ole mundo!\")\n",
    "print(texto)\n",
    "\n",
    "lista = [1, 2, 3] # mutaveis\n",
    "print(\"List\",lista)\n",
    "\n",
    "tupla = (1, 2, 3, 4, 5) #imutaveis\n",
    "print(\"Tupla\", tupla)\n",
    "\n",
    "conjunto = {1, 2, 3} # coleção nao ordenada de itens unicos\n",
    "print(\"Set\", conjunto)\n",
    "\n",
    "dicionario = {\"chave\":\"valor\"} # coleção nao ordenada de pares chave-valor\n",
    "print(\"Dicionario\", dicionario)\n",
    "\n",
    "booleano = True # True ou False\n",
    "print(\"Booleano\", booleano)\n",
    "\n",
    "nenhum = None # Ausencia de valor\n",
    "print(\"NoneType (None):\", nenhum)\n",
    "\n",
    "nome = \"Ana Paula\"\n",
    "print(type(nome)) # retorna o tipo da variavel\n"
   ]
  },
  {
   "cell_type": "code",
   "execution_count": 59,
   "metadata": {},
   "outputs": [
    {
     "name": "stdout",
     "output_type": "stream",
     "text": [
      "Txt1 Txt2 Txt3 Txt4\n",
      "Ana Ana Ana Ana\n",
      "Txt1 Txt2 Txt3 Txt4\n"
     ]
    }
   ],
   "source": [
    "# Atribuição de Variaveis\n",
    "\n",
    "var1, var2, var3, var4 = \"Txt1\", \"Txt2\", \"Txt3\", \"Txt4\"\n",
    "nome1 = nome2 = nome3 = nome4 = \"Ana\"\n",
    "print(var1, var2, var3, var4)\n",
    "print(nome1, nome2, nome3, nome4)\n",
    "\n",
    "exemplo = \"Txt1\", \"Txt2\", \"Txt3\", \"Txt4\" #compactação de variaveis\n",
    "ex1, ex2, ex3, ex4 = exemplo # descompactação de variavel\n",
    "print(ex1, ex2, ex3, ex4)"
   ]
  },
  {
   "cell_type": "code",
   "execution_count": 61,
   "metadata": {},
   "outputs": [
    {
     "name": "stdout",
     "output_type": "stream",
     "text": [
      "125.5\n",
      "A Media de notas é: 7.57\n"
     ]
    }
   ],
   "source": [
    "# Exercicio de Variaveis em Python\n",
    "#1.\n",
    "idade = int(25)\n",
    "#2.\n",
    "nome = str(\"João\")\n",
    "#3.\n",
    "saldo = float(100.50)\n",
    "#4.\n",
    "soma = float(idade + saldo)\n",
    "#5.\n",
    "print(soma)\n",
    "\n",
    "#1,2,3.\n",
    "nota1, nota2, nota3 = 7.5, 8.3, 6.9\n",
    "#4.\n",
    "media = (nota1 + nota2 + nota3) / 3\n",
    "#5.\n",
    "print(\"A Media de notas é:\", format(media,\".2f\")) \n",
    "# para formatar saida de casas decimais usa-se o format(variavel,\".2f\") 2 = casas dps da virgula\n"
   ]
  },
  {
   "cell_type": "code",
   "execution_count": 3,
   "metadata": {},
   "outputs": [
    {
     "name": "stdout",
     "output_type": "stream",
     "text": [
      "\n",
      "O nome digitado é:  marcelo\n",
      "\n",
      "Aluno:  marcelo  Média 6.6\n"
     ]
    }
   ],
   "source": [
    " # Função Input = scanf(C)\n",
    "\n",
    "nome = input(\"Digite seu Nome: \\n\")\n",
    "print(\"\\nO nome digitado é: \", nome)\n",
    "\n",
    "nota1 = float(input(\"Digite a nota 1\")) # a entrada da var vem em str\n",
    "nota2 = float(input(\"Digite a nota 2\")) # Cast float para alterar tipo\n",
    "\n",
    "media = (nota1 + nota2) / 2\n",
    "\n",
    "print(\"\\nAluno: \", nome, \" Média\", media)"
   ]
  },
  {
   "cell_type": "code",
   "execution_count": 1,
   "metadata": {},
   "outputs": [
    {
     "name": "stdout",
     "output_type": "stream",
     "text": [
      "9  *  0  =  0\n",
      "9  *  1  =  9\n",
      "9  *  2  =  18\n",
      "9  *  3  =  27\n",
      "9  *  4  =  36\n",
      "9  *  5  =  45\n",
      "9  *  6  =  54\n",
      "9  *  7  =  63\n",
      "9  *  8  =  72\n",
      "9  *  9  =  81\n",
      "9  *  10  =  90\n",
      "\n",
      "Sua idade é: 28\n"
     ]
    }
   ],
   "source": [
    "# Exercio de input\n",
    "\n",
    "num_tabuada = int(input(\"Digite o numero da tabuada que deseja ver\"))\n",
    "i = 0\n",
    "\n",
    "while(i <= 10):\n",
    "    print(num_tabuada, \" * \", i,\" = \", num_tabuada * i)\n",
    "    i = i + 1\n",
    "\n",
    "\n",
    "ano_nascimento = int(input(\"Digite o ano de nascimento\"))\n",
    "print(\"\\nSua idade é:\",2023 - ano_nascimento)"
   ]
  }
 ],
 "metadata": {
  "kernelspec": {
   "display_name": "Python 3",
   "language": "python",
   "name": "python3"
  },
  "language_info": {
   "codemirror_mode": {
    "name": "ipython",
    "version": 3
   },
   "file_extension": ".py",
   "mimetype": "text/x-python",
   "name": "python",
   "nbconvert_exporter": "python",
   "pygments_lexer": "ipython3",
   "version": "3.11.5"
  },
  "orig_nbformat": 4
 },
 "nbformat": 4,
 "nbformat_minor": 2
}
